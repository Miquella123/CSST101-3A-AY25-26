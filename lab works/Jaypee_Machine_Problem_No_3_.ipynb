{
  "nbformat": 4,
  "nbformat_minor": 0,
  "metadata": {
    "colab": {
      "provenance": [],
      "include_colab_link": true
    },
    "kernelspec": {
      "name": "ir",
      "display_name": "R"
    },
    "language_info": {
      "name": "R"
    }
  },
  "cells": [
    {
      "cell_type": "markdown",
      "metadata": {
        "id": "view-in-github",
        "colab_type": "text"
      },
      "source": [
        "<a href=\"https://colab.research.google.com/github/Miquella123/CSST101-3A-AY25-26/blob/main/Jaypee_Machine_Problem_No_3_.ipynb\" target=\"_parent\"><img src=\"https://colab.research.google.com/assets/colab-badge.svg\" alt=\"Open In Colab\"/></a>"
      ]
    },
    {
      "cell_type": "code",
      "execution_count": null,
      "metadata": {
        "colab": {
          "base_uri": "https://localhost:8080/"
        },
        "id": "2UHQM2NVaUEz",
        "outputId": "e9e3f7a2-ef8c-4b72-b89c-4fda6de7955f"
      },
      "outputs": [
        {
          "output_type": "stream",
          "name": "stdout",
          "text": [
            "=== COMPUTER TROUBLESHOOTING HELPER ===\n"
          ]
        }
      ],
      "source": [
        "# ==========================================\n",
        "# COMPUTER TROUBLESHOOTING HELPER\n",
        "# by Jaypee Marcus\n",
        "# ==========================================\n",
        "\n",
        "# This version helps users identify and fix common PC issues.\n",
        "# It uses if–else and switch statements to simulate expert reasoning.\n",
        "\n",
        "cat(\"=== COMPUTER TROUBLESHOOTING HELPER ===\\n\")\n",
        "\n",
        "# --- Step 1: Ask user what problem they are facing ---\n",
        "issue <- readline(prompt = \"Enter your PC issue (won't turn on / running slow / black screen / overheating / network issue): \")\n",
        "\n",
        "# --- Step 2: Apply rules ---\n",
        "if (issue == \"won't turn on\") {\n",
        "  cat(\"\\n[Condition] The computer won’t power on.\\n\")\n",
        "  plug <- readline(prompt = \"Is the power cable properly connected? (yes/no): \")\n",
        "\n",
        "  if (plug == \"no\") {\n",
        "    cat(\"[Conclusion] Connect the power cable securely or check the outlet.\\n\")\n",
        "  } else {\n",
        "    cat(\"[Conclusion] Try another power supply or test with a different wall socket.\\n\")\n",
        "  }\n",
        "\n",
        "} else if (issue == \"running slow\") {\n",
        "  cat(\"\\n[Condition] The computer is slow.\\n\")\n",
        "  storage <- readline(prompt = \"Is your storage drive almost full? (yes/no): \")\n",
        "\n",
        "  if (storage == \"yes\") {\n",
        "    cat(\"[Conclusion] Free up some disk space or uninstall unused programs.\\n\")\n",
        "  } else {\n",
        "    cat(\"[Conclusion] Try disabling startup apps or scan for malware.\\n\")\n",
        "  }\n",
        "\n",
        "} else if (issue == \"black screen\") {\n",
        "  cat(\"\\n[Condition] Black screen detected.\\n\")\n",
        "  beep <- readline(prompt = \"Do you hear any beeps during startup? (yes/no): \")\n",
        "\n",
        "  if (beep == \"yes\") {\n",
        "    cat(\"[Conclusion] The system might have a hardware issue—check RAM or GPU.\\n\")\n",
        "  } else {\n",
        "    cat(\"[Conclusion] The monitor may be off or disconnected. Check cables and brightness.\\n\")\n",
        "  }\n",
        "\n",
        "} else if (issue == \"overheating\") {\n",
        "  cat(\"\\n[Condition] The computer is overheating.\\n\")\n",
        "  room <- readline(prompt = \"Is your room temperature hot? (yes/no): \")\n",
        "\n",
        "  if (room == \"yes\") {\n",
        "    cat(\"[Conclusion] Improve room ventilation or move the PC to a cooler area.\\n\")\n",
        "  } else {\n",
        "    cat(\"[Conclusion] Clean the cooling fans and make sure airflow is not blocked.\\n\")\n",
        "  }\n",
        "\n",
        "} else if (issue == \"network issue\") {\n",
        "  cat(\"\\n[Condition] Internet connection issue.\\n\")\n",
        "  type <- readline(prompt = \"Are you using a wired or wireless connection? (wired/wireless): \")\n",
        "\n",
        "  # --- Chained Rule Example ---\n",
        "  if (type == \"wireless\") {\n",
        "    restart <- readline(prompt = \"Have you tried restarting your router? (yes/no): \")\n",
        "    if (restart == \"no\") {\n",
        "      cat(\"[Conclusion] Restart your router and reconnect to Wi-Fi.\\n\")\n",
        "    } else {\n",
        "      cat(\"[Conclusion] Check your Wi-Fi adapter settings or reset network configuration.\\n\")\n",
        "    }\n",
        "  } else if (type == \"wired\") {\n",
        "    cat(\"[Conclusion] Inspect the LAN cable and ensure it’s firmly connected.\\n\")\n",
        "  }\n",
        "\n",
        "} else {\n",
        "  cat(\"\\n[Conclusion] Unknown issue. Please enter a valid problem.\\n\")\n",
        "}\n",
        "\n",
        "cat(\"\\n=== END OF TROUBLESHOOTING ===\\n\")\n"
      ]
    }
  ]
}
